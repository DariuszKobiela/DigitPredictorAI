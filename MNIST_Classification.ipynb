{
 "cells": [
  {
   "cell_type": "code",
   "execution_count": 1,
   "metadata": {},
   "outputs": [],
   "source": [
    "import warnings\n",
    "warnings.filterwarnings(\"ignore\")"
   ]
  },
  {
   "cell_type": "markdown",
   "metadata": {},
   "source": [
    "# skołować dane"
   ]
  },
  {
   "cell_type": "code",
   "execution_count": 2,
   "metadata": {},
   "outputs": [],
   "source": [
    "# https://www.kaggle.com/oddrationale/mnist-in-csv/data#"
   ]
  },
  {
   "cell_type": "code",
   "execution_count": 3,
   "metadata": {},
   "outputs": [],
   "source": [
    "import pandas as pd \n",
    "import numpy as np\n",
    "mnist_train = pd.read_csv(\"data\\mnist_train.csv\")\n",
    "mnist_test = pd.read_csv(\"data\\mnist_test.csv\")"
   ]
  },
  {
   "cell_type": "markdown",
   "metadata": {},
   "source": [
    "3. wybrać algorytmy ML lub DL \n",
    "4. ustawić parametry algorytmu\n",
    "5. załadować dane do modelu i rozpocząć proces uczenia .fit()\n",
    "6. ewaluacja wyników (na zbiorze treningowym i na zbiorze testowym)\n",
    "7. poprawienie parametrów i wróć do kroku 4, jak już jest spoko to lecimy dalej"
   ]
  },
  {
   "cell_type": "markdown",
   "metadata": {},
   "source": [
    "# przetworzyć"
   ]
  },
  {
   "cell_type": "code",
   "execution_count": 101,
   "metadata": {},
   "outputs": [],
   "source": [
    "Y_train = mnist_train.label.values\n",
    "Y_test = mnist_test.label.values\n",
    "X_train = mnist_train.values[:,1:]\n",
    "X_test = mnist_test.values[:,1:]\n",
    "\n",
    "X_train = np.array([(x-x.mean())/x.std() for x in X_train])\n",
    "X_test = np.array([(x-x.mean())/x.std() for x in X_test])\n",
    "X_train = X_train.astype('float32').reshape(-1,28, 28)\n",
    "X_test = X_test.astype('float32').reshape(-1,28, 28)\n",
    "\n",
    "y_train, y_test, x_train, x_test = [data for data in [Y_train, Y_test, X_train, X_test]]"
   ]
  },
  {
   "cell_type": "markdown",
   "metadata": {},
   "source": [
    "# analiza danych"
   ]
  },
  {
   "cell_type": "code",
   "execution_count": 5,
   "metadata": {},
   "outputs": [
    {
     "data": {
      "image/png": "[encoded data removed]",
      "text/plain": [
       "<Figure size 432x288 with 1 Axes>"
      ]
     },
     "metadata": {
      "needs_background": "light"
     },
     "output_type": "display_data"
    }
   ],
   "source": [
    "import matplotlib.pyplot as plt\n",
    "plt.imshow(x_train[0], cmap='gray')\n",
    "plt.title(\"label: %d \"%y_train[0])\n",
    "plt.show()"
   ]
  },
  {
   "cell_type": "markdown",
   "metadata": {},
   "source": [
    "# wybór modelu"
   ]
  },
  {
   "cell_type": "code",
   "execution_count": 6,
   "metadata": {},
   "outputs": [],
   "source": [
    "x_train = x_train.reshape(-1,784)\n",
    "x_test = x_test.reshape(-1,784)"
   ]
  },
  {
   "cell_type": "code",
   "execution_count": 7,
   "metadata": {},
   "outputs": [
    {
     "name": "stdout",
     "output_type": "stream",
     "text": [
      "Fitting 5 folds for each of 8 candidates, totalling 40 fits\n"
     ]
    },
    {
     "name": "stderr",
     "output_type": "stream",
     "text": [
      "[Parallel(n_jobs=1)]: Using backend SequentialBackend with 1 concurrent workers.\n",
      "[Parallel(n_jobs=1)]: Done  40 out of  40 | elapsed:  1.2min finished\n"
     ]
    }
   ],
   "source": [
    "from sklearn.linear_model import LogisticRegression\n",
    "from sklearn.model_selection import GridSearchCV\n",
    "model = LogisticRegression()\n",
    "param_grid = [\n",
    "  {'penalty': ['l1'], 'solver': ['liblinear', 'saga'], 'C':[0.1,0.02]},\n",
    "  {'penalty': ['l2'], 'solver': ['sag', 'lbfgs'], 'C':[0.1,0.02]},\n",
    " ]\n",
    "\n",
    "#  'C':[1,0.1,0.01,0.001], 'tol':[1,0.1,0.01,0.001]\n",
    "\n",
    "scoring = {'Accuracy': 'accuracy'}\n",
    "clf = GridSearchCV(model, param_grid, scoring=scoring, refit='Accuracy', verbose=1).fit(x_train, y_train)\n"
   ]
  },
  {
   "cell_type": "code",
   "execution_count": 52,
   "metadata": {},
   "outputs": [
    {
     "name": "stdout",
     "output_type": "stream",
     "text": [
      "LogisticRegression,Train,accuracy_score,1.0\n",
      "LogisticRegression,Test,accuracy_score,0.836\n",
      "LogisticRegression,Train,precision_score,1.0,1.0,1.0,1.0,1.0,1.0,1.0,1.0,1.0,1.0\n",
      "LogisticRegression,Test,precision_score,0.9523809523809523,0.96875,0.8434782608695652,0.8020833333333334,0.9117647058823529,0.65,0.875,0.7692307692307693,0.8125,0.7572815533980582\n",
      "LogisticRegression,Train,recall_score,1.0,1.0,1.0,1.0,1.0,1.0,1.0,1.0,1.0,1.0\n",
      "LogisticRegression,Test,recall_score,0.9411764705882353,0.9841269841269841,0.8362068965517241,0.719626168224299,0.8454545454545455,0.7471264367816092,0.8850574712643678,0.8080808080808081,0.7303370786516854,0.8297872340425532\n",
      "LogisticRegression,Train,f1_score,1.0,1.0,1.0,1.0,1.0,1.0,1.0,1.0,1.0,1.0\n",
      "LogisticRegression,Test,f1_score,0.9467455621301775,0.9763779527559054,0.8398268398268398,0.7586206896551725,0.8773584905660377,0.6951871657754011,0.8800000000000001,0.7881773399014778,0.7692307692307693,0.7918781725888325\n"
     ]
    }
   ],
   "source": [
    "from sklearn.metrics import accuracy_score, precision_score, recall_score, f1_score\n",
    "def get_metrics(clf, x_train, x_test, y_train, y_test):\n",
    "    y_pred_train = clf.predict(x_train)\n",
    "    y_pred_test = clf.predict(x_test)\n",
    "    metric = accuracy_score\n",
    "    print(type(clf.estimator).__name__, \"Train\", metric.__name__, accuracy_score(y_train, y_pred_train), sep=\",\")\n",
    "    print(type(clf.estimator).__name__, \"Test\", metric.__name__, accuracy_score(y_test, y_pred_test), sep=\",\")\n",
    "    for metric in [precision_score,recall_score, f1_score]:\n",
    "        print(type(clf.estimator).__name__, \"Train\", metric.__name__, *metric(y_train, y_pred_train, average=None), sep=\",\")\n",
    "        print(type(clf.estimator).__name__, \"Test\", metric.__name__, *metric(y_test, y_pred_test, average=None), sep=\",\")\n",
    "\n",
    "get_metrics(clf, x_train, x_test, y_train, y_test)"
   ]
  },
  {
   "cell_type": "code",
   "execution_count": 68,
   "metadata": {},
   "outputs": [
    {
     "name": "stdout",
     "output_type": "stream",
     "text": [
      "LogisticRegression {'C': 0.1, 'penalty': 'l2', 'solver': 'lbfgs'}\n"
     ]
    }
   ],
   "source": [
    "def get_params(clf):\n",
    "    print(type(clf.estimator).__name__, clf.best_params_)\n",
    "get_params(clf)"
   ]
  },
  {
   "cell_type": "markdown",
   "metadata": {},
   "source": [
    "# Decision Tree Classifier"
   ]
  },
  {
   "cell_type": "code",
   "execution_count": 58,
   "metadata": {},
   "outputs": [
    {
     "name": "stdout",
     "output_type": "stream",
     "text": [
      "Fitting 5 folds for each of 4 candidates, totalling 20 fits\n"
     ]
    },
    {
     "name": "stderr",
     "output_type": "stream",
     "text": [
      "[Parallel(n_jobs=1)]: Using backend SequentialBackend with 1 concurrent workers.\n",
      "[Parallel(n_jobs=1)]: Done  20 out of  20 | elapsed:    4.7s finished\n"
     ]
    },
    {
     "data": {
      "text/plain": [
       "0.526"
      ]
     },
     "execution_count": 58,
     "metadata": {},
     "output_type": "execute_result"
    }
   ],
   "source": [
    "from sklearn.tree import DecisionTreeClassifier\n",
    "model = DecisionTreeClassifier(max_depth = 4)\n",
    "param_grid = {\n",
    "    'criterion': ['gini', 'entropy'], \n",
    "    'splitter': ['best', 'random'], \n",
    "}\n",
    "scoring = {'Accuracy': 'accuracy'}\n",
    "clf_dt = GridSearchCV(model, param_grid, scoring=scoring, refit='Accuracy', verbose=1).fit(x_train, y_train)\n",
    "clf_dt.score(x_test, y_test)"
   ]
  },
  {
   "cell_type": "code",
   "execution_count": 59,
   "metadata": {},
   "outputs": [
    {
     "name": "stdout",
     "output_type": "stream",
     "text": [
      "DecisionTreeClassifier,Train,accuracy_score,0.679\n",
      "DecisionTreeClassifier,Test,accuracy_score,0.526\n",
      "DecisionTreeClassifier,Train,precision_score,0.8571428571428571,0.8790322580645161,0.6904761904761905,0.8493150684931506,0.8428571428571429,0.39664804469273746,0.6822429906542056,0.5581395348837209,0.7204301075268817,0.0\n",
      "DecisionTreeClassifier,Test,precision_score,0.7619047619047619,0.8524590163934426,0.5454545454545454,0.6896551724137931,0.6190476190476191,0.25663716814159293,0.43137254901960786,0.45569620253164556,0.5844155844155844,0.0\n",
      "DecisionTreeClassifier,Train,recall_score,0.865979381443299,0.9396551724137931,0.5858585858585859,0.6666666666666666,0.5619047619047619,0.7717391304347826,0.776595744680851,0.8205128205128205,0.7701149425287356,0.0\n",
      "DecisionTreeClassifier,Test,recall_score,0.7529411764705882,0.8253968253968254,0.5172413793103449,0.37383177570093457,0.35454545454545455,0.6666666666666666,0.5057471264367817,0.7272727272727273,0.5056179775280899,0.0\n",
      "DecisionTreeClassifier,Train,f1_score,0.8615384615384615,0.9083333333333334,0.633879781420765,0.7469879518072289,0.6742857142857143,0.5239852398523985,0.7263681592039801,0.6643598615916956,0.7444444444444445,0.0\n",
      "DecisionTreeClassifier,Test,f1_score,0.757396449704142,0.8387096774193549,0.5309734513274337,0.48484848484848486,0.45086705202312144,0.3706070287539936,0.46560846560846564,0.5603112840466926,0.5421686746987953,0.0\n"
     ]
    }
   ],
   "source": [
    "get_metrics(clf_dt, x_train, x_test, y_train, y_test)"
   ]
  },
  {
   "cell_type": "code",
   "execution_count": 70,
   "metadata": {},
   "outputs": [
    {
     "name": "stdout",
     "output_type": "stream",
     "text": [
      "DecisionTreeClassifier {'criterion': 'entropy', 'splitter': 'best'}\n"
     ]
    }
   ],
   "source": [
    "get_params(clf_dt)"
   ]
  },
  {
   "cell_type": "code",
   "execution_count": 57,
   "metadata": {},
   "outputs": [
    {
     "ename": "ModuleNotFoundError",
     "evalue": "No module named 'graphviz'",
     "output_type": "error",
     "traceback": [
      "\u001b[1;31m---------------------------------------------------------------------------\u001b[0m",
      "\u001b[1;31mModuleNotFoundError\u001b[0m                       Traceback (most recent call last)",
      "\u001b[1;32m<ipython-input-57-0d404041ffe5>\u001b[0m in \u001b[0;36m<module>\u001b[1;34m\u001b[0m\n\u001b[0;32m      7\u001b[0m             \u001b[0mfilled\u001b[0m \u001b[1;33m=\u001b[0m \u001b[1;32mTrue\u001b[0m\u001b[1;33m,\u001b[0m\u001b[1;33m\u001b[0m\u001b[1;33m\u001b[0m\u001b[0m\n\u001b[0;32m      8\u001b[0m             rounded = True)\n\u001b[1;32m----> 9\u001b[1;33m \u001b[1;32mimport\u001b[0m \u001b[0mgraphviz\u001b[0m\u001b[1;33m\u001b[0m\u001b[1;33m\u001b[0m\u001b[0m\n\u001b[0m\u001b[0;32m     10\u001b[0m \u001b[1;32mwith\u001b[0m \u001b[0mopen\u001b[0m\u001b[1;33m(\u001b[0m\u001b[1;34m\"myTreeName.dot\"\u001b[0m\u001b[1;33m)\u001b[0m \u001b[1;32mas\u001b[0m \u001b[0mf\u001b[0m\u001b[1;33m:\u001b[0m\u001b[1;33m\u001b[0m\u001b[1;33m\u001b[0m\u001b[0m\n\u001b[0;32m     11\u001b[0m     \u001b[0mdot_graph\u001b[0m\u001b[1;33m=\u001b[0m\u001b[0mf\u001b[0m\u001b[1;33m.\u001b[0m\u001b[0mread\u001b[0m\u001b[1;33m(\u001b[0m\u001b[1;33m)\u001b[0m\u001b[1;33m\u001b[0m\u001b[1;33m\u001b[0m\u001b[0m\n",
      "\u001b[1;31mModuleNotFoundError\u001b[0m: No module named 'graphviz'"
     ]
    }
   ],
   "source": [
    "from sklearn.tree import export_graphviz\n",
    "\n",
    "# Creates dot file named tree.dot\n",
    "export_graphviz(\n",
    "            clf_dt.best_estimator_,\n",
    "            out_file =  \"myTreeName.dot\",\n",
    "            filled = True,\n",
    "            rounded = True)\n",
    "import graphviz\n",
    "with open(\"myTreeName.dot\") as f:\n",
    "    dot_graph=f.read()\n",
    "graphviz.Source(dot_graph)"
   ]
  },
  {
   "cell_type": "code",
   "execution_count": 61,
   "metadata": {},
   "outputs": [
    {
     "data": {
      "text/plain": [
       "dict_keys(['ccp_alpha', 'class_weight', 'criterion', 'max_depth', 'max_features', 'max_leaf_nodes', 'min_impurity_decrease', 'min_impurity_split', 'min_samples_leaf', 'min_samples_split', 'min_weight_fraction_leaf', 'presort', 'random_state', 'splitter'])"
      ]
     },
     "execution_count": 61,
     "metadata": {},
     "output_type": "execute_result"
    }
   ],
   "source": [
    "model.get_params().keys()"
   ]
  },
  {
   "cell_type": "markdown",
   "metadata": {},
   "source": [
    "# Support Vector Classifier"
   ]
  },
  {
   "cell_type": "code",
   "execution_count": 74,
   "metadata": {},
   "outputs": [
    {
     "name": "stdout",
     "output_type": "stream",
     "text": [
      "Fitting 5 folds for each of 3 candidates, totalling 15 fits\n"
     ]
    },
    {
     "name": "stderr",
     "output_type": "stream",
     "text": [
      "[Parallel(n_jobs=1)]: Using backend SequentialBackend with 1 concurrent workers.\n",
      "[Parallel(n_jobs=1)]: Done  15 out of  15 | elapsed:    9.7s finished\n"
     ]
    },
    {
     "data": {
      "text/plain": [
       "0.903"
      ]
     },
     "execution_count": 74,
     "metadata": {},
     "output_type": "execute_result"
    }
   ],
   "source": [
    "from sklearn.svm import SVC\n",
    "model = SVC()\n",
    "param_grid = {\n",
    "    'C': [100,10,1],\n",
    "}\n",
    "scoring = {'Accuracy': 'accuracy'}\n",
    "clf_svc = GridSearchCV(model, param_grid, scoring=scoring, refit='Accuracy', verbose=1).fit(x_train, y_train)\n",
    "clf_svc.score(x_test, y_test)\n",
    "\n",
    "# C = 1 daje najlepsze resulataty, gamma nie ma wpływu"
   ]
  },
  {
   "cell_type": "code",
   "execution_count": 75,
   "metadata": {},
   "outputs": [
    {
     "name": "stdout",
     "output_type": "stream",
     "text": [
      "SVC,Train,accuracy_score,1.0\n",
      "SVC,Test,accuracy_score,0.903\n",
      "SVC,Train,precision_score,1.0,1.0,1.0,1.0,1.0,1.0,1.0,1.0,1.0,1.0\n",
      "SVC,Test,precision_score,0.9318181818181818,0.9765625,0.954954954954955,0.9347826086956522,0.8888888888888888,0.78,0.9204545454545454,0.8811881188118812,0.9113924050632911,0.8380952380952381\n",
      "SVC,Train,recall_score,1.0,1.0,1.0,1.0,1.0,1.0,1.0,1.0,1.0,1.0\n",
      "SVC,Test,recall_score,0.9647058823529412,0.9920634920634921,0.9137931034482759,0.8037383177570093,0.8727272727272727,0.896551724137931,0.9310344827586207,0.898989898989899,0.8089887640449438,0.9361702127659575\n",
      "SVC,Train,f1_score,1.0,1.0,1.0,1.0,1.0,1.0,1.0,1.0,1.0,1.0\n",
      "SVC,Test,f1_score,0.9479768786127167,0.9842519685039369,0.9339207048458151,0.864321608040201,0.8807339449541284,0.8342245989304813,0.9257142857142858,0.89,0.8571428571428571,0.8844221105527638\n"
     ]
    }
   ],
   "source": [
    "get_metrics(clf_svc, x_train, x_test, y_train, y_test)"
   ]
  },
  {
   "cell_type": "code",
   "execution_count": 76,
   "metadata": {},
   "outputs": [
    {
     "name": "stdout",
     "output_type": "stream",
     "text": [
      "SVC {'C': 100}\n"
     ]
    }
   ],
   "source": [
    "get_params(clf_svc)"
   ]
  },
  {
   "cell_type": "code",
   "execution_count": 50,
   "metadata": {},
   "outputs": [
    {
     "name": "stdout",
     "output_type": "stream",
     "text": [
      "('scoring', {'Accuracy': 'accuracy'})\n",
      "('estimator', SVC(C=1.0, cache_size=200, class_weight=None, coef0=0.0,\n",
      "    decision_function_shape='ovr', degree=3, gamma='auto_deprecated',\n",
      "    kernel='rbf', max_iter=-1, probability=False, random_state=None,\n",
      "    shrinking=True, tol=0.001, verbose=False))\n",
      "('n_jobs', None)\n",
      "('iid', 'warn')\n",
      "('refit', 'Accuracy')\n",
      "('cv', 'warn')\n",
      "('verbose', 1)\n",
      "('pre_dispatch', '2*n_jobs')\n",
      "('error_score', 'raise-deprecating')\n",
      "('return_train_score', False)\n",
      "('param_grid', {'C': [100, 10, 1]})\n",
      "('multimetric_', True)\n",
      "('best_index_', 0)\n",
      "('best_score_', 0.903)\n",
      "('best_params_', {'C': 100})\n",
      "('best_estimator_', SVC(C=100, cache_size=200, class_weight=None, coef0=0.0,\n",
      "    decision_function_shape='ovr', degree=3, gamma='auto_deprecated',\n",
      "    kernel='rbf', max_iter=-1, probability=False, random_state=None,\n",
      "    shrinking=True, tol=0.001, verbose=False))\n",
      "('refit_time_', 0.774700403213501)\n",
      "('scorer_', {'Accuracy': make_scorer(accuracy_score)})\n",
      "('cv_results_', {'mean_fit_time': array([0.46124331, 0.45647454, 0.39499728]), 'std_fit_time': array([0.00793304, 0.00760332, 0.00840789]), 'mean_score_time': array([0.14716697, 0.14862235, 0.14832934]), 'std_score_time': array([0.00246525, 0.00354562, 0.0012774 ]), 'param_C': masked_array(data=[100, 10, 1],\n",
      "             mask=[False, False, False],\n",
      "       fill_value='?',\n",
      "            dtype=object), 'params': [{'C': 100}, {'C': 10}, {'C': 1}], 'split0_test_Accuracy': array([0.88988095, 0.88988095, 0.89583333]), 'split1_test_Accuracy': array([0.90990991, 0.90990991, 0.90990991]), 'split2_test_Accuracy': array([0.90936556, 0.90936556, 0.90030211]), 'mean_test_Accuracy': array([0.903, 0.903, 0.902]), 'std_test_Accuracy': array([0.00933492, 0.00933492, 0.00587931]), 'rank_test_Accuracy': array([1, 1, 3])})\n",
      "('n_splits_', 3)\n"
     ]
    }
   ],
   "source": [
    "print(*clf.__dict__.items(), sep=\"\\n\")"
   ]
  },
  {
   "cell_type": "markdown",
   "metadata": {},
   "source": [
    "# Saving and loading models"
   ]
  },
  {
   "cell_type": "code",
   "execution_count": 92,
   "metadata": {},
   "outputs": [],
   "source": [
    "from sklearn.externals import joblib\n",
    "\n",
    "for model in [clf, clf_dt, clf_svc]:\n",
    "    DIRECTORY = \"classical_models/\"\n",
    "    joblib_file = DIRECTORY + type(model.best_estimator_).__name__ + \".pkl\"\n",
    "    joblib.dump(model.best_estimator_, joblib_file)"
   ]
  },
  {
   "cell_type": "code",
   "execution_count": 95,
   "metadata": {},
   "outputs": [
    {
     "data": {
      "text/plain": [
       "0.903"
      ]
     },
     "execution_count": 95,
     "metadata": {},
     "output_type": "execute_result"
    }
   ],
   "source": [
    "DIRECTORY = \"classical_models/\"\n",
    "joblib_file = DIRECTORY + \"SVC\" + \".pkl\"\n",
    "joblib_model = joblib.load(joblib_file)\n",
    "score = joblib_model.score(x_test, y_test)\n",
    "score\n"
   ]
  },
  {
   "cell_type": "markdown",
   "metadata": {},
   "source": [
    "# Voting Classifier"
   ]
  },
  {
   "cell_type": "code",
   "execution_count": 56,
   "metadata": {},
   "outputs": [
    {
     "name": "stdout",
     "output_type": "stream",
     "text": [
      "Fitting 3 folds for each of 8 candidates, totalling 24 fits\n"
     ]
    },
    {
     "name": "stderr",
     "output_type": "stream",
     "text": [
      "[Parallel(n_jobs=1)]: Using backend SequentialBackend with 1 concurrent workers.\n",
      "[Parallel(n_jobs=1)]: Done  24 out of  24 | elapsed:  1.4min finished\n"
     ]
    },
    {
     "data": {
      "text/plain": [
       "0.869"
      ]
     },
     "execution_count": 56,
     "metadata": {},
     "output_type": "execute_result"
    }
   ],
   "source": [
    "from sklearn.ensemble import VotingClassifier\n",
    "\n",
    "lr = LogisticRegression(C=1)\n",
    "dtc = DecisionTreeClassifier(max_depth = 4)\n",
    "svc = SVC(probability=True)\n",
    "\n",
    "eclf = VotingClassifier(\n",
    "    estimators=[('lr', lr), ('dtc', dtc), ('svc', svc)],\n",
    "    voting='soft'\n",
    ")\n",
    "\n",
    "param_grid = {\n",
    "    'lr__C': [0.1,0.02], \n",
    "    'dtc__criterion': ['gini', 'entropy'],\n",
    "    'svc__C': [100,10]\n",
    "}\n",
    "\n",
    "clf = GridSearchCV(estimator=eclf, param_grid=param_grid, cv=3, verbose=1).fit(x_train, y_train)\n",
    "clf.score(x_test, y_test)"
   ]
  },
  {
   "cell_type": "code",
   "execution_count": 57,
   "metadata": {},
   "outputs": [
    {
     "data": {
      "text/plain": [
       "{'scoring': None, 'estimator': VotingClassifier(estimators=[('lr',\n",
       "                               LogisticRegression(C=1, class_weight=None,\n",
       "                                                  dual=False, fit_intercept=True,\n",
       "                                                  intercept_scaling=1,\n",
       "                                                  l1_ratio=None, max_iter=100,\n",
       "                                                  multi_class='warn',\n",
       "                                                  n_jobs=None, penalty='l2',\n",
       "                                                  random_state=None,\n",
       "                                                  solver='warn', tol=0.0001,\n",
       "                                                  verbose=0, warm_start=False)),\n",
       "                              ('dtc',\n",
       "                               DecisionTreeClassifier(class_weight=None,\n",
       "                                                      criterion='gini',\n",
       "                                                      max_depth=4,\n",
       "                                                      max_...\n",
       "                                                      min_weight_fraction_leaf=0.0,\n",
       "                                                      presort=False,\n",
       "                                                      random_state=None,\n",
       "                                                      splitter='best')),\n",
       "                              ('svc',\n",
       "                               SVC(C=1.0, cache_size=200, class_weight=None,\n",
       "                                   coef0=0.0, decision_function_shape='ovr',\n",
       "                                   degree=3, gamma='auto_deprecated',\n",
       "                                   kernel='rbf', max_iter=-1, probability=True,\n",
       "                                   random_state=None, shrinking=True, tol=0.001,\n",
       "                                   verbose=False))],\n",
       "                  flatten_transform=True, n_jobs=None, voting='soft',\n",
       "                  weights=None), 'n_jobs': None, 'iid': 'warn', 'refit': True, 'cv': 3, 'verbose': 1, 'pre_dispatch': '2*n_jobs', 'error_score': 'raise-deprecating', 'return_train_score': False, 'param_grid': {'lr__C': [0.1,\n",
       "   0.02],\n",
       "  'dtc__criterion': ['gini', 'entropy'],\n",
       "  'svc__C': [100,\n",
       "   10]}, 'multimetric_': False, 'best_index_': 0, 'best_score_': 0.877, 'best_params_': {'dtc__criterion': 'gini',\n",
       "  'lr__C': 0.1,\n",
       "  'svc__C': 100}, 'best_estimator_': VotingClassifier(estimators=[('lr',\n",
       "                               LogisticRegression(C=0.1, class_weight=None,\n",
       "                                                  dual=False, fit_intercept=True,\n",
       "                                                  intercept_scaling=1,\n",
       "                                                  l1_ratio=None, max_iter=100,\n",
       "                                                  multi_class='warn',\n",
       "                                                  n_jobs=None, penalty='l2',\n",
       "                                                  random_state=None,\n",
       "                                                  solver='warn', tol=0.0001,\n",
       "                                                  verbose=0, warm_start=False)),\n",
       "                              ('dtc',\n",
       "                               DecisionTreeClassifier(class_weight=None,\n",
       "                                                      criterion='gini',\n",
       "                                                      max_depth=4,\n",
       "                                                      ma...\n",
       "                                                      min_weight_fraction_leaf=0.0,\n",
       "                                                      presort=False,\n",
       "                                                      random_state=None,\n",
       "                                                      splitter='best')),\n",
       "                              ('svc',\n",
       "                               SVC(C=100, cache_size=200, class_weight=None,\n",
       "                                   coef0=0.0, decision_function_shape='ovr',\n",
       "                                   degree=3, gamma='auto_deprecated',\n",
       "                                   kernel='rbf', max_iter=-1, probability=True,\n",
       "                                   random_state=None, shrinking=True, tol=0.001,\n",
       "                                   verbose=False))],\n",
       "                  flatten_transform=True, n_jobs=None, voting='soft',\n",
       "                  weights=None), 'refit_time_': 5.5231287479400635, 'scorer_': <function sklearn.metrics.scorer._passthrough_scorer(estimator, *args, **kwargs)>, 'cv_results_': {'mean_fit_time': array([3.18561244, 3.18015162, 3.03267598, 3.03878522, 3.617359  ,\n",
       "         3.6049885 , 3.46501915, 3.4581457 ]),\n",
       "  'std_fit_time': array([0.02719251, 0.02725117, 0.04512324, 0.04493152, 0.01895043,\n",
       "         0.03409761, 0.0489912 , 0.04234799]),\n",
       "  'mean_score_time': array([0.17295114, 0.17196472, 0.17355069, 0.17326021, 0.16642237,\n",
       "         0.16470202, 0.17653155, 0.17206224]),\n",
       "  'std_score_time': array([0.00266204, 0.00854356, 0.00371269, 0.00792583, 0.00554281,\n",
       "         0.00463541, 0.00757463, 0.00656686]),\n",
       "  'param_dtc__criterion': masked_array(data=['gini', 'gini', 'gini', 'gini', 'entropy', 'entropy',\n",
       "                     'entropy', 'entropy'],\n",
       "               mask=[False, False, False, False, False, False, False, False],\n",
       "         fill_value='?',\n",
       "              dtype=object),\n",
       "  'param_lr__C': masked_array(data=[0.1, 0.1, 0.02, 0.02, 0.1, 0.1, 0.02, 0.02],\n",
       "               mask=[False, False, False, False, False, False, False, False],\n",
       "         fill_value='?',\n",
       "              dtype=object),\n",
       "  'param_svc__C': masked_array(data=[100, 10, 100, 10, 100, 10, 100, 10],\n",
       "               mask=[False, False, False, False, False, False, False, False],\n",
       "         fill_value='?',\n",
       "              dtype=object),\n",
       "  'params': [{'dtc__criterion': 'gini', 'lr__C': 0.1, 'svc__C': 100},\n",
       "   {'dtc__criterion': 'gini', 'lr__C': 0.1, 'svc__C': 10},\n",
       "   {'dtc__criterion': 'gini', 'lr__C': 0.02, 'svc__C': 100},\n",
       "   {'dtc__criterion': 'gini', 'lr__C': 0.02, 'svc__C': 10},\n",
       "   {'dtc__criterion': 'entropy', 'lr__C': 0.1, 'svc__C': 100},\n",
       "   {'dtc__criterion': 'entropy', 'lr__C': 0.1, 'svc__C': 10},\n",
       "   {'dtc__criterion': 'entropy', 'lr__C': 0.02, 'svc__C': 100},\n",
       "   {'dtc__criterion': 'entropy', 'lr__C': 0.02, 'svc__C': 10}],\n",
       "  'split0_test_score': array([0.87797619, 0.875     , 0.87797619, 0.87797619, 0.875     ,\n",
       "         0.875     , 0.86607143, 0.86904762]),\n",
       "  'split1_test_score': array([0.88888889, 0.88588589, 0.89189189, 0.89189189, 0.87687688,\n",
       "         0.87687688, 0.87987988, 0.87987988]),\n",
       "  'split2_test_score': array([0.86404834, 0.86404834, 0.86102719, 0.86102719, 0.85800604,\n",
       "         0.85800604, 0.86706949, 0.86706949]),\n",
       "  'mean_test_score': array([0.877, 0.875, 0.877, 0.877, 0.87 , 0.87 , 0.871, 0.872]),\n",
       "  'std_test_score': array([0.01014456, 0.00889725, 0.01259434, 0.01259434, 0.00847137,\n",
       "         0.00847137, 0.00628754, 0.00562603]),\n",
       "  'rank_test_score': array([1, 4, 1, 1, 7, 7, 6, 5])}, 'n_splits_': 3}"
      ]
     },
     "execution_count": 57,
     "metadata": {},
     "output_type": "execute_result"
    }
   ],
   "source": [
    "clf.__dict__"
   ]
  },
  {
   "cell_type": "markdown",
   "metadata": {},
   "source": [
    "# Neural Network"
   ]
  },
  {
   "cell_type": "markdown",
   "metadata": {},
   "source": [
    "Data preprocessing"
   ]
  },
  {
   "cell_type": "code",
   "execution_count": 74,
   "metadata": {},
   "outputs": [],
   "source": [
    "from tensorflow.keras.utils import to_categorical\n",
    "\n",
    "Y_train = to_categorical(Y_train)\n",
    "Y_test = to_categorical(Y_test)\n",
    "X_train = X_train.reshape(-1, 28,28,1)\n",
    "X_test = X_test.reshape(-1, 28,28,1)"
   ]
  },
  {
   "cell_type": "code",
   "execution_count": 83,
   "metadata": {},
   "outputs": [
    {
     "name": "stdout",
     "output_type": "stream",
     "text": [
      "Train on 42000 samples, validate on 18000 samples\n",
      "Epoch 1/20\n",
      "42000/42000 - 6s - loss: 0.5733 - accuracy: 0.8562 - val_loss: 0.3944 - val_accuracy: 0.8959\n",
      "Epoch 2/20\n",
      "42000/42000 - 5s - loss: 0.3851 - accuracy: 0.8893 - val_loss: 0.3444 - val_accuracy: 0.9025\n",
      "Epoch 3/20\n",
      "42000/42000 - 5s - loss: 0.3507 - accuracy: 0.8998 - val_loss: 0.3807 - val_accuracy: 0.8933\n",
      "Epoch 4/20\n",
      "42000/42000 - 5s - loss: 0.3370 - accuracy: 0.9024 - val_loss: 0.3564 - val_accuracy: 0.9013\n",
      "Epoch 5/20\n",
      "42000/42000 - 5s - loss: 0.3298 - accuracy: 0.9047 - val_loss: 0.3350 - val_accuracy: 0.9057\n",
      "Epoch 6/20\n",
      "42000/42000 - 5s - loss: 0.3178 - accuracy: 0.9089 - val_loss: 0.3491 - val_accuracy: 0.9046\n",
      "Epoch 7/20\n",
      "42000/42000 - 5s - loss: 0.3138 - accuracy: 0.9098 - val_loss: 0.3434 - val_accuracy: 0.9056\n",
      "Epoch 8/20\n",
      "42000/42000 - 5s - loss: 0.3057 - accuracy: 0.9126 - val_loss: 0.3371 - val_accuracy: 0.9068\n",
      "Epoch 9/20\n",
      "42000/42000 - 6s - loss: 0.3029 - accuracy: 0.9128 - val_loss: 0.3245 - val_accuracy: 0.9134\n",
      "Epoch 10/20\n",
      "42000/42000 - 5s - loss: 0.2996 - accuracy: 0.9139 - val_loss: 0.3347 - val_accuracy: 0.9101\n",
      "Epoch 11/20\n",
      "42000/42000 - 5s - loss: 0.2955 - accuracy: 0.9158 - val_loss: 0.3274 - val_accuracy: 0.9104\n",
      "Epoch 12/20\n",
      "42000/42000 - 5s - loss: 0.2935 - accuracy: 0.9162 - val_loss: 0.3303 - val_accuracy: 0.9106\n",
      "Epoch 13/20\n",
      "42000/42000 - 5s - loss: 0.2922 - accuracy: 0.9150 - val_loss: 0.3424 - val_accuracy: 0.9081\n",
      "Epoch 14/20\n",
      "42000/42000 - 5s - loss: 0.2880 - accuracy: 0.9170 - val_loss: 0.3411 - val_accuracy: 0.9041\n",
      "Epoch 15/20\n",
      "42000/42000 - 5s - loss: 0.2894 - accuracy: 0.9165 - val_loss: 0.3347 - val_accuracy: 0.9084\n",
      "Epoch 16/20\n",
      "42000/42000 - 5s - loss: 0.2841 - accuracy: 0.9177 - val_loss: 0.3353 - val_accuracy: 0.9082\n",
      "Epoch 17/20\n",
      "42000/42000 - 5s - loss: 0.2832 - accuracy: 0.9193 - val_loss: 0.3313 - val_accuracy: 0.9106\n",
      "Epoch 18/20\n",
      "42000/42000 - 5s - loss: 0.2820 - accuracy: 0.9189 - val_loss: 0.3159 - val_accuracy: 0.9141\n",
      "Epoch 19/20\n",
      "42000/42000 - 5s - loss: 0.2804 - accuracy: 0.9193 - val_loss: 0.3182 - val_accuracy: 0.9132\n",
      "Epoch 20/20\n",
      "42000/42000 - 5s - loss: 0.2795 - accuracy: 0.9213 - val_loss: 0.3320 - val_accuracy: 0.9087\n"
     ]
    }
   ],
   "source": [
    "from tensorflow.keras.models import Sequential\n",
    "from tensorflow.keras.layers import Dense, Flatten\n",
    "\n",
    "model = Sequential()\n",
    "model.add(Flatten(input_shape=[28,28,1]))\n",
    "model.add(Dense(1000))\n",
    "model.add(Dense(100))\n",
    "model.add(Dense(Y_train.shape[1], activation = 'softmax'))\n",
    "model.compile(optimizer='adam', loss='categorical_crossentropy', metrics=['accuracy'])\n",
    "history = model.fit(X_train, Y_train, validation_split=0.3, epochs=20, verbose=2)"
   ]
  },
  {
   "cell_type": "code",
   "execution_count": null,
   "metadata": {},
   "outputs": [],
   "source": [
    "score = model.evaluate(X_train, Y_train, verbose=0)\n",
    "print('Train loss:', score[0]) \n",
    "print('Train accuracy:', score[1])\n",
    "score = model.evaluate(X_test, Y_test, verbose=0)\n",
    "print('Test loss:', score[0]) \n",
    "print('Test accuracy:', score[1])"
   ]
  },
  {
   "cell_type": "code",
   "execution_count": null,
   "metadata": {},
   "outputs": [],
   "source": [
    "from tensorflow.python.keras.utils import plot_model\n",
    "plot_model(model, to_file='model_DNN.png', show_shapes =True, show_layer_names = False)"
   ]
  },
  {
   "cell_type": "code",
   "execution_count": 84,
   "metadata": {},
   "outputs": [
    {
     "name": "stdout",
     "output_type": "stream",
     "text": [
      "dict_keys(['loss', 'accuracy', 'val_loss', 'val_accuracy'])\n"
     ]
    },
    {
     "data": {
      "image/png": "[encoded data removed]",
      "text/plain": [
       "<Figure size 432x288 with 1 Axes>"
      ]
     },
     "metadata": {
      "needs_background": "light"
     },
     "output_type": "display_data"
    },
    {
     "data": {
      "image/png": "[encoded data removed]",
      "text/plain": [
       "<Figure size 432x288 with 1 Axes>"
      ]
     },
     "metadata": {
      "needs_background": "light"
     },
     "output_type": "display_data"
    }
   ],
   "source": [
    "import os\n",
    "import matplotlib.pyplot as plt\n",
    "fig = plt.figure()\n",
    "fig.set_size_inches(12, 4)\n",
    "plt.subplot(1,2,1)\n",
    "plt.plot(model_log.history['accuracy'])\n",
    "plt.plot(model_log.history['val_accuracy'])\n",
    "plt.title('model accuracy')\n",
    "plt.ylabel('accuracy')\n",
    "plt.xlabel('epoch')\n",
    "plt.legend(['train', 'test'], loc='lower right')\n",
    "plt.subplot(1,2,2)\n",
    "plt.plot(model_log.history['loss'])\n",
    "plt.plot(model_log.history['val_loss'])\n",
    "plt.title('model loss')\n",
    "plt.ylabel('loss')\n",
    "plt.xlabel('epoch')\n",
    "plt.legend(['train', 'test'], loc='upper right')\n",
    "plt.tight_layout()\n",
    "plt.show()"
   ]
  },
  {
   "cell_type": "markdown",
   "metadata": {},
   "source": [
    "# Convolutional Neural Networks"
   ]
  },
  {
   "cell_type": "code",
   "execution_count": 22,
   "metadata": {},
   "outputs": [],
   "source": [
    "from tensorflow.keras.utils import to_categorical\n",
    "\n",
    "Y_train = to_categorical(Y_train)\n",
    "Y_test = to_categorical(Y_test)\n",
    "X_train = X_train.reshape(-1, 28,28,1)\n",
    "X_test = X_test.reshape(-1, 28,28,1)"
   ]
  },
  {
   "cell_type": "code",
   "execution_count": 30,
   "metadata": {},
   "outputs": [],
   "source": [
    "num_category = Y_train.shape[1]"
   ]
  },
  {
   "cell_type": "code",
   "execution_count": 31,
   "metadata": {},
   "outputs": [],
   "source": [
    "from tensorflow.python.keras.models import Sequential\n",
    "from tensorflow.python.keras.layers import Dense, Flatten, Conv2D, MaxPooling2D, Dropout\n",
    "\n",
    "model = Sequential()\n",
    "model.add(Conv2D(32, kernel_size=(3, 3),\n",
    "                 activation='relu',\n",
    "                 input_shape=[28,28,1]))\n",
    "\n",
    "model.add(Conv2D(64, (3, 3), activation='relu'))\n",
    "model.add(MaxPooling2D(pool_size=(2, 2)))\n",
    "model.add(Dropout(0.25))\n",
    "model.add(Flatten())\n",
    "model.add(Dense(128, activation='relu'))\n",
    "model.add(Dropout(0.5))\n",
    "model.add(Dense(num_category, activation='softmax'))"
   ]
  },
  {
   "cell_type": "code",
   "execution_count": 32,
   "metadata": {},
   "outputs": [],
   "source": [
    "model.compile(loss='categorical_crossentropy',\n",
    "              optimizer='adadelta',\n",
    "              metrics=['accuracy'])"
   ]
  },
  {
   "cell_type": "code",
   "execution_count": 33,
   "metadata": {},
   "outputs": [
    {
     "name": "stdout",
     "output_type": "stream",
     "text": [
      "Train on 42000 samples, validate on 18000 samples\n",
      "Epoch 1/10\n",
      "42000/42000 [==============================] - 9s 204us/sample - loss: 2.2677 - accuracy: 0.1532 - val_loss: 2.1237 - val_accuracy: 0.4624\n",
      "Epoch 2/10\n",
      "42000/42000 [==============================] - 6s 136us/sample - loss: 2.0950 - accuracy: 0.2911 - val_loss: 1.9333 - val_accuracy: 0.6422\n",
      "Epoch 3/10\n",
      "42000/42000 [==============================] - 6s 133us/sample - loss: 1.9286 - accuracy: 0.4026 - val_loss: 1.7306 - val_accuracy: 0.7113\n",
      "Epoch 4/10\n",
      "42000/42000 [==============================] - 6s 133us/sample - loss: 1.7500 - accuracy: 0.4917 - val_loss: 1.5204 - val_accuracy: 0.7484\n",
      "Epoch 5/10\n",
      "42000/42000 [==============================] - 6s 132us/sample - loss: 1.5776 - accuracy: 0.5485 - val_loss: 1.3204 - val_accuracy: 0.7732\n",
      "Epoch 6/10\n",
      "42000/42000 [==============================] - 6s 133us/sample - loss: 1.4250 - accuracy: 0.5887 - val_loss: 1.1467 - val_accuracy: 0.7934\n",
      "Epoch 7/10\n",
      "42000/42000 [==============================] - 6s 133us/sample - loss: 1.2832 - accuracy: 0.6275 - val_loss: 1.0033 - val_accuracy: 0.8084\n",
      "Epoch 8/10\n",
      "42000/42000 [==============================] - 6s 136us/sample - loss: 1.1778 - accuracy: 0.6525 - val_loss: 0.8890 - val_accuracy: 0.8236\n",
      "Epoch 9/10\n",
      "42000/42000 [==============================] - 6s 136us/sample - loss: 1.0846 - accuracy: 0.6776 - val_loss: 0.7991 - val_accuracy: 0.8333\n",
      "Epoch 10/10\n",
      "42000/42000 [==============================] - 6s 134us/sample - loss: 1.0109 - accuracy: 0.6936 - val_loss: 0.7273 - val_accuracy: 0.8423\n"
     ]
    }
   ],
   "source": [
    "batch_size = 128\n",
    "num_epoch = 10\n",
    "model_log = model.fit(X_train, Y_train,\n",
    "          batch_size=batch_size,\n",
    "          epochs=num_epoch,\n",
    "          verbose=1,\n",
    "          validation_split=0.3,)"
   ]
  },
  {
   "cell_type": "code",
   "execution_count": 34,
   "metadata": {},
   "outputs": [
    {
     "data": {
      "image/png": "[encoded data removed]",
      "text/plain": [
       "<IPython.core.display.Image object>"
      ]
     },
     "execution_count": 34,
     "metadata": {},
     "output_type": "execute_result"
    }
   ],
   "source": [
    "from tensorflow.keras.utils import plot_model\n",
    "plot_model(model, to_file='model_CNN.png', show_shapes =True, show_layer_names = False)"
   ]
  },
  {
   "cell_type": "code",
   "execution_count": 36,
   "metadata": {},
   "outputs": [
    {
     "name": "stdout",
     "output_type": "stream",
     "text": [
      "Train loss: 0.7420354553222657\n",
      "Train accuracy: 0.8348\n",
      "Test loss: 0.7250827960968017\n",
      "Test accuracy: 0.8471\n"
     ]
    }
   ],
   "source": [
    "score = model.evaluate(X_train, Y_train, verbose=0)\n",
    "print('Train loss:', score[0]) \n",
    "print('Train accuracy:', score[1])\n",
    "score = model.evaluate(X_test, Y_test, verbose=0)\n",
    "print('Test loss:', score[0]) \n",
    "print('Test accuracy:', score[1])"
   ]
  },
  {
   "cell_type": "code",
   "execution_count": 39,
   "metadata": {},
   "outputs": [
    {
     "data": {
      "text/plain": [
       "{'loss': [2.267730087643578,\n",
       "  2.0950058254514423,\n",
       "  1.928574264344715,\n",
       "  1.7500438702447074,\n",
       "  1.5775908936091831,\n",
       "  1.4250491438820247,\n",
       "  1.2832427231016612,\n",
       "  1.1778263932182675,\n",
       "  1.0846286876315163,\n",
       "  1.0108621186755953],\n",
       " 'accuracy': [0.15323809,\n",
       "  0.29111904,\n",
       "  0.40264285,\n",
       "  0.49166667,\n",
       "  0.5484762,\n",
       "  0.5886667,\n",
       "  0.6275476,\n",
       "  0.6525238,\n",
       "  0.6775714,\n",
       "  0.69357145],\n",
       " 'val_loss': [2.1236952495574952,\n",
       "  1.9332582706875272,\n",
       "  1.7305500948164199,\n",
       "  1.5204385114245944,\n",
       "  1.320420623143514,\n",
       "  1.1467034337785509,\n",
       "  1.0032845976087783,\n",
       "  0.8890077081256442,\n",
       "  0.7991097776095072,\n",
       "  0.7272695073021783],\n",
       " 'val_accuracy': [0.4623889,\n",
       "  0.6421667,\n",
       "  0.7112778,\n",
       "  0.74844444,\n",
       "  0.77316666,\n",
       "  0.7933889,\n",
       "  0.80844444,\n",
       "  0.82361114,\n",
       "  0.8333333,\n",
       "  0.84227777]}"
      ]
     },
     "execution_count": 39,
     "metadata": {},
     "output_type": "execute_result"
    }
   ],
   "source": [
    "model_log.history"
   ]
  },
  {
   "cell_type": "code",
   "execution_count": 47,
   "metadata": {},
   "outputs": [
    {
     "data": {
      "image/png": "[encoded data removed]",
      "text/plain": [
       "<Figure size 864x288 with 2 Axes>"
      ]
     },
     "metadata": {
      "needs_background": "light"
     },
     "output_type": "display_data"
    }
   ],
   "source": [
    "import os\n",
    "import matplotlib.pyplot as plt\n",
    "fig = plt.figure()\n",
    "\n",
    "plt.plot(model_log.history['accuracy'])\n",
    "plt.plot(model_log.history['val_accuracy'])\n",
    "plt.title('model accuracy')\n",
    "plt.ylabel('accuracy')\n",
    "plt.xlabel('epoch')\n",
    "plt.legend(['train', 'test'], loc='lower right')\n",
    "plt.savefig('books_read.png')\n",
    "plt.plot(model_log.history['loss'])\n",
    "plt.plot(model_log.history['val_loss'])\n",
    "plt.title('model loss')\n",
    "plt.ylabel('loss')\n",
    "plt.xlabel('epoch')\n",
    "plt.legend(['train', 'test'], loc='upper right')\n",
    "plt.tight_layout()\n",
    "plt.show()"
   ]
  },
  {
   "cell_type": "code",
   "execution_count": null,
   "metadata": {},
   "outputs": [],
   "source": []
  },
  {
   "cell_type": "code",
   "execution_count": null,
   "metadata": {},
   "outputs": [],
   "source": [
    "# KROKI"
   ]
  },
  {
   "cell_type": "code",
   "execution_count": null,
   "metadata": {},
   "outputs": [],
   "source": [
    "# sieci splotowe - Convolutional Neural Networks - kernel_size, kernels_no, padding, \n",
    "# Dropout, Flatten, Conv2d, Dense"
   ]
  },
  {
   "cell_type": "code",
   "execution_count": null,
   "metadata": {},
   "outputs": [],
   "source": [
    "# wytrenowanie Google Colab <---\n",
    "# zapisanie modelu do pliku\n",
    "# wczytanie modelu z pliku"
   ]
  },
  {
   "cell_type": "code",
   "execution_count": null,
   "metadata": {},
   "outputs": [],
   "source": [
    "# sieci splotowe - Convolutional Neural Networks"
   ]
  },
  {
   "cell_type": "code",
   "execution_count": null,
   "metadata": {},
   "outputs": [],
   "source": [
    "# może kiedyś\n",
    "# ----------\n",
    "# RandomForest\n",
    "# KNeigbours Classifier\n",
    "# XGBoost\n",
    "# SVM Classifier DONE"
   ]
  },
  {
   "cell_type": "code",
   "execution_count": null,
   "metadata": {},
   "outputs": [],
   "source": []
  }
 ],
 "metadata": {
  "kernelspec": {
   "display_name": "Python [conda env:ds] *",
   "language": "python",
   "name": "conda-env-ds-py"
  },
  "language_info": {
   "codemirror_mode": {
    "name": "ipython",
    "version": 3
   },
   "file_extension": ".py",
   "mimetype": "text/x-python",
   "name": "python",
   "nbconvert_exporter": "python",
   "pygments_lexer": "ipython3",
   "version": "3.7.6"
  },
  "pycharm": {
   "stem_cell": {
    "cell_type": "raw",
    "metadata": {
     "collapsed": false
    },
    "source": []
   }
  }
 },
 "nbformat": 4,
 "nbformat_minor": 4
}
