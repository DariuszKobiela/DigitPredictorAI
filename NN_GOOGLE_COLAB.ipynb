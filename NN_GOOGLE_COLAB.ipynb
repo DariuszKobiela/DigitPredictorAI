{
  "nbformat": 4,
  "nbformat_minor": 0,
  "metadata": {
    "kernelspec": {
      "display_name": "Python [conda env:ds] *",
      "language": "python",
      "name": "conda-env-ds-py"
    },
    "language_info": {
      "codemirror_mode": {
        "name": "ipython",
        "version": 3
      },
      "file_extension": ".py",
      "mimetype": "text/x-python",
      "name": "python",
      "nbconvert_exporter": "python",
      "pygments_lexer": "ipython3",
      "version": "3.7.6"
    },
    "colab": {
      "name": "NN_GOOGLE_COLAB.ipynb",
      "provenance": [],
      "toc_visible": true,
      "include_colab_link": true
    }
  },
  "cells": [
    {
      "cell_type": "markdown",
      "metadata": {
        "id": "view-in-github",
        "colab_type": "text"
      },
      "source": [
        "<a href=\"https://colab.research.google.com/github/DariuszKobiela/DigitPredictorAI/blob/master/NN_GOOGLE_COLAB.ipynb\" target=\"_parent\"><img src=\"https://colab.research.google.com/assets/colab-badge.svg\" alt=\"Open In Colab\"/></a>"
      ]
    },
    {
      "cell_type": "code",
      "metadata": {
        "id": "zrxVRpwAl5eq",
        "colab_type": "code",
        "colab": {
          "base_uri": "https://localhost:8080/",
          "height": 128
        },
        "outputId": "0a5c9938-c49c-4295-ae61-6b2d1e8fa31b"
      },
      "source": [
        "from google.colab import drive\n",
        "drive.mount('/content/drive')"
      ],
      "execution_count": 9,
      "outputs": [
        {
          "output_type": "stream",
          "text": [
            "Go to this URL in a browser: https://accounts.google.com/o/oauth2/auth?client_id=947318989803-6bn6qk8qdgf4n4g3pfee6491hc0brc4i.apps.googleusercontent.com&redirect_uri=urn%3aietf%3awg%3aoauth%3a2.0%3aoob&response_type=code&scope=email%20https%3a%2f%2fwww.googleapis.com%2fauth%2fdocs.test%20https%3a%2f%2fwww.googleapis.com%2fauth%2fdrive%20https%3a%2f%2fwww.googleapis.com%2fauth%2fdrive.photos.readonly%20https%3a%2f%2fwww.googleapis.com%2fauth%2fpeopleapi.readonly\n",
            "\n",
            "Enter your authorization code:\n",
            "··········\n",
            "Mounted at /content/drive\n"
          ],
          "name": "stdout"
        }
      ]
    },
    {
      "cell_type": "markdown",
      "metadata": {
        "id": "zuAmbJ5al0ro",
        "colab_type": "text"
      },
      "source": [
        "# IMPORTS"
      ]
    },
    {
      "cell_type": "code",
      "metadata": {
        "id": "O7z9W9Ual0rp",
        "colab_type": "code",
        "colab": {},
        "outputId": "1c4663f2-75fa-4640-87d3-71ddfcca97ca"
      },
      "source": [
        "from models import *"
      ],
      "execution_count": 0,
      "outputs": [
        {
          "output_type": "stream",
          "text": [
            "C:\\Users\\Mateusz\\Miniconda3\\envs\\ds\\lib\\site-packages\\tensorflow\\python\\framework\\dtypes.py:526: FutureWarning: Passing (type, 1) or '1type' as a synonym of type is deprecated; in a future version of numpy, it will be understood as (type, (1,)) / '(1,)type'.\n",
            "  _np_qint8 = np.dtype([(\"qint8\", np.int8, 1)])\n",
            "C:\\Users\\Mateusz\\Miniconda3\\envs\\ds\\lib\\site-packages\\tensorflow\\python\\framework\\dtypes.py:527: FutureWarning: Passing (type, 1) or '1type' as a synonym of type is deprecated; in a future version of numpy, it will be understood as (type, (1,)) / '(1,)type'.\n",
            "  _np_quint8 = np.dtype([(\"quint8\", np.uint8, 1)])\n",
            "C:\\Users\\Mateusz\\Miniconda3\\envs\\ds\\lib\\site-packages\\tensorflow\\python\\framework\\dtypes.py:528: FutureWarning: Passing (type, 1) or '1type' as a synonym of type is deprecated; in a future version of numpy, it will be understood as (type, (1,)) / '(1,)type'.\n",
            "  _np_qint16 = np.dtype([(\"qint16\", np.int16, 1)])\n",
            "C:\\Users\\Mateusz\\Miniconda3\\envs\\ds\\lib\\site-packages\\tensorflow\\python\\framework\\dtypes.py:529: FutureWarning: Passing (type, 1) or '1type' as a synonym of type is deprecated; in a future version of numpy, it will be understood as (type, (1,)) / '(1,)type'.\n",
            "  _np_quint16 = np.dtype([(\"quint16\", np.uint16, 1)])\n",
            "C:\\Users\\Mateusz\\Miniconda3\\envs\\ds\\lib\\site-packages\\tensorflow\\python\\framework\\dtypes.py:530: FutureWarning: Passing (type, 1) or '1type' as a synonym of type is deprecated; in a future version of numpy, it will be understood as (type, (1,)) / '(1,)type'.\n",
            "  _np_qint32 = np.dtype([(\"qint32\", np.int32, 1)])\n",
            "C:\\Users\\Mateusz\\Miniconda3\\envs\\ds\\lib\\site-packages\\tensorflow\\python\\framework\\dtypes.py:535: FutureWarning: Passing (type, 1) or '1type' as a synonym of type is deprecated; in a future version of numpy, it will be understood as (type, (1,)) / '(1,)type'.\n",
            "  np_resource = np.dtype([(\"resource\", np.ubyte, 1)])\n"
          ],
          "name": "stderr"
        }
      ]
    },
    {
      "cell_type": "markdown",
      "metadata": {
        "id": "YI0HemP7l0ry",
        "colab_type": "text"
      },
      "source": [
        "# TRAINING"
      ]
    },
    {
      "cell_type": "code",
      "metadata": {
        "id": "YJCbqfAsl0r0",
        "colab_type": "code",
        "colab": {}
      },
      "source": [
        "batch_size = 128\n",
        "num_epoch = 3\n",
        "\n",
        "print(\"--------------------------------\")\n",
        "\n",
        "x_train, y_train, x_test, y_test = load_data_for_NN()\n",
        "for model_name, model in [(\"CNN\", model_CNN()), (\"DNN\", model_DNN())]:\n",
        "    model_log, model = fit_model(model, model_name, x_train, y_train, batch_size, num_epoch)\n",
        "    validate(model, x_train, y_train, x_test, y_test)\n",
        "    save_model_plot(model, model_name)\n",
        "    for metric_name in ['accuracy', 'loss']:\n",
        "        plot_metric(model_log, metric_name, model_name)"
      ],
      "execution_count": 0,
      "outputs": []
    },
    {
      "cell_type": "markdown",
      "metadata": {
        "id": "5Kj85qBNl0r4",
        "colab_type": "text"
      },
      "source": [
        "# LOADING"
      ]
    },
    {
      "cell_type": "code",
      "metadata": {
        "id": "IdkGtyPll0r5",
        "colab_type": "code",
        "colab": {}
      },
      "source": [
        "# model_name = \"CNN\"\n",
        "# checkpoint_path = get_checkpoint_path(model_name)\n",
        "# checkpoint_dir = os.path.dirname(checkpoint_path)\n",
        "#\n",
        "# model = model_CNN()\n",
        "# latest = tf.train.latest_checkpoint(checkpoint_dir)\n",
        "# model.load_weights(latest)\n",
        "\n",
        "# print(x_test[0].shape)\n",
        "#     # print(model.predict(x_test[0].reshape(1, 28, 28, 1)))"
      ],
      "execution_count": 0,
      "outputs": []
    }
  ]
}