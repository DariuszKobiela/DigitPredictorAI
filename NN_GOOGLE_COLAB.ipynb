{
  "nbformat": 4,
  "nbformat_minor": 0,
  "metadata": {
    "kernelspec": {
      "name": "python3",
      "display_name": "Python 3"
    },
    "colab": {
      "name": "NN_GOOGLE_COLAB.ipynb",
      "provenance": [],
      "toc_visible": true,
      "include_colab_link": true
    },
    "accelerator": "GPU"
  },
  "cells": [
    {
      "cell_type": "markdown",
      "metadata": {
        "id": "view-in-github",
        "colab_type": "text"
      },
      "source": [
        "<a href=\"https://colab.research.google.com/github/DariuszKobiela/DigitPredictorAI/blob/master/NN_GOOGLE_COLAB.ipynb\" target=\"_parent\"><img src=\"https://colab.research.google.com/assets/colab-badge.svg\" alt=\"Open In Colab\"/></a>"
      ]
    },
    {
      "cell_type": "code",
      "metadata": {
        "id": "zrxVRpwAl5eq",
        "colab_type": "code",
        "outputId": "942614ab-43f5-41ea-d6fd-80ab919d2eb0",
        "colab": {
          "base_uri": "https://localhost:8080/",
          "height": 128
        }
      },
      "source": [
        "from google.colab import drive\n",
        "drive.mount('/content/drive')"
      ],
      "execution_count": 2,
      "outputs": [
        {
          "output_type": "stream",
          "text": [
            "Go to this URL in a browser: https://accounts.google.com/o/oauth2/auth?client_id=947318989803-6bn6qk8qdgf4n4g3pfee6491hc0brc4i.apps.googleusercontent.com&redirect_uri=urn%3aietf%3awg%3aoauth%3a2.0%3aoob&response_type=code&scope=email%20https%3a%2f%2fwww.googleapis.com%2fauth%2fdocs.test%20https%3a%2f%2fwww.googleapis.com%2fauth%2fdrive%20https%3a%2f%2fwww.googleapis.com%2fauth%2fdrive.photos.readonly%20https%3a%2f%2fwww.googleapis.com%2fauth%2fpeopleapi.readonly\n",
            "\n",
            "Enter your authorization code:\n",
            "··········\n",
            "Mounted at /content/drive\n"
          ],
          "name": "stdout"
        }
      ]
    },
    {
      "cell_type": "code",
      "metadata": {
        "id": "NikDioaYqPom",
        "colab_type": "code",
        "outputId": "d5af2f08-3793-4c7a-dddb-13ec23a496ae",
        "colab": {
          "base_uri": "https://localhost:8080/",
          "height": 35
        }
      },
      "source": [
        "import tensorflow\n",
        "tensorflow.__version__"
      ],
      "execution_count": 3,
      "outputs": [
        {
          "output_type": "execute_result",
          "data": {
            "text/plain": [
              "'2.2.0-rc3'"
            ]
          },
          "metadata": {
            "tags": []
          },
          "execution_count": 3
        }
      ]
    },
    {
      "cell_type": "markdown",
      "metadata": {
        "id": "zuAmbJ5al0ro",
        "colab_type": "text"
      },
      "source": [
        "# IMPORTS"
      ]
    },
    {
      "cell_type": "code",
      "metadata": {
        "id": "O7z9W9Ual0rp",
        "colab_type": "code",
        "colab": {}
      },
      "source": [
        "import os\n",
        "\n",
        "import matplotlib.pyplot as plt\n",
        "import numpy as np\n",
        "import pandas as pd\n",
        "import tensorflow as tf\n",
        "from tensorflow.keras.callbacks import ModelCheckpoint\n",
        "from tensorflow.keras.layers import Dense, Flatten, Conv2D, MaxPooling2D, Dropout\n",
        "from tensorflow.keras.metrics import Accuracy, Recall, Precision\n",
        "from tensorflow.keras.models import Sequential\n",
        "from tensorflow.keras.utils import to_categorical, plot_model\n",
        "\n",
        "\n",
        "def load_data_for_NN(root_directory):\n",
        "    mnist_train = pd.read_csv(root_directory+\"data/mnist_train.csv\")\n",
        "    mnist_test = pd.read_csv(root_directory+\"data/mnist_test.csv\")\n",
        "    y_train = mnist_train.label.values\n",
        "    y_test = mnist_test.label.values\n",
        "    x_train = mnist_train.values[:, 1:]\n",
        "    x_test = mnist_test.values[:, 1:]\n",
        "    # Standardization\n",
        "    x_train = np.array([(x - x.mean()) / x.std() for x in x_train])\n",
        "    x_test = np.array([(x - x.mean()) / x.std() for x in x_test])\n",
        "    x_train = x_train.astype('float32').reshape(-1, 28, 28, 1)\n",
        "    x_test = x_test.astype('float32').reshape(-1, 28, 28, 1)\n",
        "    y_train = to_categorical(y_train)\n",
        "    y_test = to_categorical(y_test)\n",
        "    return x_train, y_train, x_test, y_test\n",
        "\n",
        "\n",
        "def load_images(root_directory):\n",
        "    mnist = pd.read_csv(root_directory+\"data/mnist_test.csv\")\n",
        "    y = mnist.label.values\n",
        "    x = mnist.values[:, 1:].astype('float32').reshape(-1, 28, 28)\n",
        "    return x, y\n",
        "\n",
        "\n",
        "def model_DNN():\n",
        "    model = Sequential()\n",
        "    model.add(Flatten(input_shape=[28, 28, 1]))\n",
        "    model.add(Dense(512))\n",
        "    model.add(Dense(128))\n",
        "    model.add(Dense(10, activation='softmax'))\n",
        "    model.compile(optimizer='adam', loss='categorical_crossentropy', metrics=['acc'])\n",
        "    return model\n",
        "\n",
        "\n",
        "def model_CNN():\n",
        "    model = Sequential()\n",
        "    model.add(Conv2D(32, kernel_size=(3, 3), activation='relu', input_shape=[28, 28, 1]))\n",
        "    model.add(Conv2D(64, (3, 3), activation='relu'))\n",
        "    model.add(MaxPooling2D(pool_size=(2, 2)))\n",
        "    model.add(Dropout(0.25))\n",
        "    model.add(Flatten())\n",
        "    model.add(Dense(128, activation='relu'))\n",
        "    model.add(Dropout(0.5))\n",
        "    model.add(Dense(10, activation='softmax'))\n",
        "    model.compile(loss='categorical_crossentropy', optimizer='adadelta', metrics=['acc'])\n",
        "    return model\n",
        "\n",
        "\n",
        "def get_checkpoint_path(model_name, root_directory):\n",
        "    checkpoint_path = root_directory + model_name + \"_training/cp.ckpt\"\n",
        "    return checkpoint_path\n",
        "\n",
        "\n",
        "def fit_model(model, model_name, x_train, y_train, batch_size, num_epoch, root_directory):\n",
        "    checkpoint_path = get_checkpoint_path(model_name, root_directory)\n",
        "    cp_callback = ModelCheckpoint(filepath=checkpoint_path,\n",
        "                                  save_best_only=True,\n",
        "                                  save_weights_only=True,\n",
        "                                  verbose=1,\n",
        "                                  monitor=\"loss\",\n",
        "                                  mode='auto', \n",
        "                                  save_freq='epoch'\n",
        "                                )\n",
        "    model_log = model.fit(x_train, y_train, batch_size=batch_size, validation_split=0.3, epochs=num_epoch,\n",
        "                          verbose=1, callbacks=[cp_callback])\n",
        "    return model_log, model\n",
        "\n",
        "\n",
        "def validate(model, x_train, y_train, x_test, y_test):\n",
        "    score = model.evaluate(x_train, y_train, verbose=0)\n",
        "    print('Train loss:', score[0], end=\", \")\n",
        "    print('Train accuracy:', score[1])\n",
        "    score = model.evaluate(x_test, y_test, verbose=0)\n",
        "    print('Test loss:', score[0], end=\", \")\n",
        "    print('Test accuracy:', score[1])\n",
        "    print(model.summary())\n",
        "\n",
        "\n",
        "def save_model_plot(model, model_name, root_directory):\n",
        "    plot_model(model, to_file=root_directory+\"images/\" + model_name + '_architecture.png', show_shapes=True, show_layer_names=False)\n",
        "\n",
        "\n",
        "def plot_metric(model_log, metric_name, model_name, root_directory):\n",
        "    fig = plt.figure()\n",
        "    fig.set_size_inches(6, 4)\n",
        "    plt.plot(model_log.history[metric_name])\n",
        "    plt.plot(model_log.history['val_' + metric_name])\n",
        "    plt.title('model' + model_name + \" - \" + metric_name)\n",
        "    plt.ylabel(metric_name)\n",
        "    plt.xlabel('epoch')\n",
        "    plt.legend(['train', 'test'], loc='lower right')\n",
        "    plt.savefig(root_directory + \"images/\" + model_name + '_' + metric_name + '.png')\n"
      ],
      "execution_count": 0,
      "outputs": []
    },
    {
      "cell_type": "markdown",
      "metadata": {
        "id": "YI0HemP7l0ry",
        "colab_type": "text"
      },
      "source": [
        "# TRAINING"
      ]
    },
    {
      "cell_type": "code",
      "metadata": {
        "id": "dTtfGzSWRHrH",
        "colab_type": "code",
        "colab": {
          "base_uri": "https://localhost:8080/",
          "height": 35
        },
        "outputId": "0ab5d310-15fc-4689-84b4-6ef44d439d34"
      },
      "source": [
        "x_train.shape"
      ],
      "execution_count": 25,
      "outputs": [
        {
          "output_type": "execute_result",
          "data": {
            "text/plain": [
              "(60000, 28, 28, 1)"
            ]
          },
          "metadata": {
            "tags": []
          },
          "execution_count": 25
        }
      ]
    },
    {
      "cell_type": "code",
      "metadata": {
        "id": "YJCbqfAsl0r0",
        "colab_type": "code",
        "colab": {
          "base_uri": "https://localhost:8080/",
          "height": 1000
        },
        "outputId": "cacbda7f-4459-4231-8e69-f0a8ddc866a2"
      },
      "source": [
        "batch_size = 128\n",
        "num_epoch = 3\n",
        "root_directory = \"/content/drive/My Drive/COLAB/\"\n",
        "\n",
        "print(\"--------------------------------\")\n",
        "#przy gorszej wartosci accuracy dla większej ilosci epok nie powinien zapisywac do dysku google\n",
        "\n",
        "x_train, y_train, x_test, y_test = load_data_for_NN(root_directory)\n",
        "\n",
        "for model_name, model in [(\"CNN\", model_CNN()), (\"DNN\", model_DNN())]:\n",
        "  \n",
        "#for model_name, model in [(\"CNN\", model_CNN())]:\n",
        "    model_log, model = fit_model(model, model_name, x_train, y_train, batch_size, num_epoch, root_directory)\n",
        "    validate(model, x_train, y_train, x_test, y_test)\n",
        "    save_model_plot(model, model_name, root_directory)\n",
        "    for metric_name in ['acc', 'loss']:\n",
        "        plot_metric(model_log, metric_name, model_name, root_directory)"
      ],
      "execution_count": 27,
      "outputs": [
        {
          "output_type": "stream",
          "text": [
            "--------------------------------\n",
            "Epoch 1/3\n",
            "320/329 [============================>.] - ETA: 0s - loss: 2.3049 - acc: 0.1152\n",
            "Epoch 00001: loss improved from inf to 2.30304, saving model to /content/drive/My Drive/COLAB/CNN_training/cp.ckpt\n",
            "329/329 [==============================] - 2s 8ms/step - loss: 2.3030 - acc: 0.1163 - val_loss: 2.2059 - val_acc: 0.2565\n",
            "Epoch 2/3\n",
            "325/329 [============================>.] - ETA: 0s - loss: 2.1909 - acc: 0.2178\n",
            "Epoch 00002: loss improved from 2.30304 to 2.18984, saving model to /content/drive/My Drive/COLAB/CNN_training/cp.ckpt\n",
            "329/329 [==============================] - 2s 7ms/step - loss: 2.1898 - acc: 0.2184 - val_loss: 2.0857 - val_acc: 0.5297\n",
            "Epoch 3/3\n",
            "321/329 [============================>.] - ETA: 0s - loss: 2.0820 - acc: 0.3209\n",
            "Epoch 00003: loss improved from 2.18984 to 2.08100, saving model to /content/drive/My Drive/COLAB/CNN_training/cp.ckpt\n",
            "329/329 [==============================] - 2s 7ms/step - loss: 2.0810 - acc: 0.3221 - val_loss: 1.9571 - val_acc: 0.6364\n",
            "Train loss: 1.9622894525527954, Train accuracy: 0.6306333541870117\n",
            "Test loss: 1.9580885171890259, Test accuracy: 0.6359000205993652\n",
            "Model: \"sequential_8\"\n",
            "_________________________________________________________________\n",
            "Layer (type)                 Output Shape              Param #   \n",
            "=================================================================\n",
            "conv2d_12 (Conv2D)           (None, 26, 26, 32)        320       \n",
            "_________________________________________________________________\n",
            "conv2d_13 (Conv2D)           (None, 24, 24, 64)        18496     \n",
            "_________________________________________________________________\n",
            "max_pooling2d_6 (MaxPooling2 (None, 12, 12, 64)        0         \n",
            "_________________________________________________________________\n",
            "dropout_12 (Dropout)         (None, 12, 12, 64)        0         \n",
            "_________________________________________________________________\n",
            "flatten_8 (Flatten)          (None, 9216)              0         \n",
            "_________________________________________________________________\n",
            "dense_18 (Dense)             (None, 128)               1179776   \n",
            "_________________________________________________________________\n",
            "dropout_13 (Dropout)         (None, 128)               0         \n",
            "_________________________________________________________________\n",
            "dense_19 (Dense)             (None, 10)                1290      \n",
            "=================================================================\n",
            "Total params: 1,199,882\n",
            "Trainable params: 1,199,882\n",
            "Non-trainable params: 0\n",
            "_________________________________________________________________\n",
            "None\n",
            "Epoch 1/3\n",
            "317/329 [===========================>..] - ETA: 0s - loss: 0.4768 - acc: 0.8737\n",
            "Epoch 00001: loss improved from inf to 0.47147, saving model to /content/drive/My Drive/COLAB/DNN_training/cp.ckpt\n",
            "329/329 [==============================] - 1s 4ms/step - loss: 0.4715 - acc: 0.8748 - val_loss: 0.3451 - val_acc: 0.9043\n",
            "Epoch 2/3\n",
            "319/329 [============================>.] - ETA: 0s - loss: 0.3526 - acc: 0.8994\n",
            "Epoch 00002: loss improved from 0.47147 to 0.35350, saving model to /content/drive/My Drive/COLAB/DNN_training/cp.ckpt\n",
            "329/329 [==============================] - 1s 4ms/step - loss: 0.3535 - acc: 0.8990 - val_loss: 0.3602 - val_acc: 0.9006\n",
            "Epoch 3/3\n",
            "312/329 [===========================>..] - ETA: 0s - loss: 0.3348 - acc: 0.9045\n",
            "Epoch 00003: loss improved from 0.35350 to 0.33510, saving model to /content/drive/My Drive/COLAB/DNN_training/cp.ckpt\n",
            "329/329 [==============================] - 1s 4ms/step - loss: 0.3351 - acc: 0.9047 - val_loss: 0.3324 - val_acc: 0.9068\n",
            "Train loss: 0.30709218978881836, Train accuracy: 0.913016676902771\n",
            "Test loss: 0.3142564594745636, Test accuracy: 0.9099000096321106\n",
            "Model: \"sequential_9\"\n",
            "_________________________________________________________________\n",
            "Layer (type)                 Output Shape              Param #   \n",
            "=================================================================\n",
            "flatten_9 (Flatten)          (None, 784)               0         \n",
            "_________________________________________________________________\n",
            "dense_20 (Dense)             (None, 512)               401920    \n",
            "_________________________________________________________________\n",
            "dense_21 (Dense)             (None, 128)               65664     \n",
            "_________________________________________________________________\n",
            "dense_22 (Dense)             (None, 10)                1290      \n",
            "=================================================================\n",
            "Total params: 468,874\n",
            "Trainable params: 468,874\n",
            "Non-trainable params: 0\n",
            "_________________________________________________________________\n",
            "None\n"
          ],
          "name": "stdout"
        },
        {
          "output_type": "display_data",
          "data": {
            "image/png": "[encoded data removed]",
            "text/plain": [
              "<Figure size 432x288 with 1 Axes>"
            ]
          },
          "metadata": {
            "tags": [],
            "needs_background": "light"
          }
        },
        {
          "output_type": "display_data",
          "data": {
            "image/png": "[encoded data removed]",
            "text/plain": [
              "<Figure size 432x288 with 1 Axes>"
            ]
          },
          "metadata": {
            "tags": [],
            "needs_background": "light"
          }
        },
        {
          "output_type": "display_data",
          "data": {
            "image/png": "[encoded data removed]",
            "text/plain": [
              "<Figure size 432x288 with 1 Axes>"
            ]
          },
          "metadata": {
            "tags": [],
            "needs_background": "light"
          }
        },
        {
          "output_type": "display_data",
          "data": {
            "image/png": "[encoded data removed]",
            "text/plain": [
              "<Figure size 432x288 with 1 Axes>"
            ]
          },
          "metadata": {
            "tags": [],
            "needs_background": "light"
          }
        }
      ]
    },
    {
      "cell_type": "code",
      "metadata": {
        "id": "3WxwFPpnpS_L",
        "colab_type": "code",
        "colab": {}
      },
      "source": [
        "root_directory = \"/content/drive/My Drive/COLAB/\"\n",
        "\n",
        "x_train, y_train, x_test, y_test = load_data_for_NN(root_directory)"
      ],
      "execution_count": 0,
      "outputs": []
    },
    {
      "cell_type": "markdown",
      "metadata": {
        "id": "5Kj85qBNl0r4",
        "colab_type": "text"
      },
      "source": [
        "# LOADING"
      ]
    },
    {
      "cell_type": "code",
      "metadata": {
        "id": "IdkGtyPll0r5",
        "colab_type": "code",
        "colab": {
          "base_uri": "https://localhost:8080/",
          "height": 72
        },
        "outputId": "85fb4a86-e375-41a8-b503-a5bf71d0f35c"
      },
      "source": [
        "model_name = \"CNN\"\n",
        "checkpoint_path = get_checkpoint_path(model_name, root_directory)\n",
        "checkpoint_dir = os.path.dirname(checkpoint_path)\n",
        "\n",
        "model = model_CNN()\n",
        "latest = tf.train.latest_checkpoint(checkpoint_dir)\n",
        "model.load_weights(latest)\n",
        "\n",
        "print(x_test[0].shape)\n",
        "print(model.predict(x_test[0].reshape(1, 28, 28, 1)))"
      ],
      "execution_count": 21,
      "outputs": [
        {
          "output_type": "stream",
          "text": [
            "(28, 28, 1)\n",
            "[[0.02081079 0.00221599 0.01361299 0.00401894 0.03379714 0.00661913\n",
            "  0.00500597 0.87432575 0.01624172 0.02335158]]\n"
          ],
          "name": "stdout"
        }
      ]
    },
    {
      "cell_type": "code",
      "metadata": {
        "id": "vYRS47VVT59d",
        "colab_type": "code",
        "colab": {
          "base_uri": "https://localhost:8080/",
          "height": 54
        },
        "outputId": "97868685-b25f-4321-ef30-0a396e05b9b6"
      },
      "source": [
        "model.evaluate(x_test, y_test)"
      ],
      "execution_count": 23,
      "outputs": [
        {
          "output_type": "stream",
          "text": [
            "313/313 [==============================] - 1s 2ms/step - loss: 0.8758 - acc: 0.8176\n"
          ],
          "name": "stdout"
        },
        {
          "output_type": "execute_result",
          "data": {
            "text/plain": [
              "[0.8758134245872498, 0.8176000118255615]"
            ]
          },
          "metadata": {
            "tags": []
          },
          "execution_count": 23
        }
      ]
    },
    {
      "cell_type": "code",
      "metadata": {
        "id": "vUtsHn8xT9M3",
        "colab_type": "code",
        "colab": {}
      },
      "source": [
        ""
      ],
      "execution_count": 0,
      "outputs": []
    }
  ]
}